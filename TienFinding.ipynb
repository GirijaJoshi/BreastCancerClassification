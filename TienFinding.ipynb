{
 "cells": [
  {
   "cell_type": "code",
   "execution_count": 1,
   "metadata": {},
   "outputs": [],
   "source": [
    "\n",
    "# making a list of cancer images\n",
    "data_2_aug = data.loc[data['target'] == 1]\n",
    "train_data_dir = data_2_aug.path.tolist()"
   ]
  },
  {
   "cell_type": "code",
   "execution_count": null,
   "metadata": {},
   "outputs": [],
   "source": [
    "# making a copy of these images in new directory for augmentation \n",
    "# ######## need to create sandbox/1/ & sandbox/0/ as a directories first!!!! ###### \n",
    "# creating preaug as a list for pre-augmentation\n",
    "import shutil\n",
    "preaug = []\n",
    "for item in train_data_dir:\n",
    "    shutil.copy(item, \"sandbox/1\")\n",
    "    preaug.append(item)"
   ]
  },
  {
   "cell_type": "code",
   "execution_count": null,
   "metadata": {},
   "outputs": [],
   "source": [
    "# set directory name of where you want to save the augmented images\n",
    "save_here = 'AugResult'"
   ]
  },
  {
   "cell_type": "code",
   "execution_count": null,
   "metadata": {},
   "outputs": [],
   "source": [
    "# Applying a (small) amount of the transformations to an input image will change its appearance slightly, \n",
    "# but it does not change the class label — thereby making data augmentation a very natural, easy method to apply for computer vision tasks.\n",
    "# https://www.pyimagesearch.com/2019/07/08/keras-imagedatagenerator-and-data-augmentation/\n",
    "# https://blog.keras.io/building-powerful-image-classification-models-using-very-little-data.html\n",
    "\n",
    "# import the necessary packages\n",
    "from tensorflow.keras.preprocessing.image import ImageDataGenerator\n",
    "\n",
    "#initialize image generator processor & setting total to 0\n",
    "augmentor = ImageDataGenerator(\n",
    "        rotation_range=40,\n",
    "        width_shift_range=0.2,\n",
    "        height_shift_range=0.2,\n",
    "        rescale=1./255,\n",
    "        shear_range=0.2,\n",
    "        zoom_range=0.2,\n",
    "        horizontal_flip=True,\n",
    "        fill_mode='nearest')"
   ]
  },
  {
   "cell_type": "code",
   "execution_count": null,
   "metadata": {},
   "outputs": [],
   "source": [
    "# augmenting our cancer data and produce new set of data that matches in volume to cancer free data 198738 images\n",
    "image = augmentor.flow_from_directory('sandbox',\n",
    "                                  #  target_size=(50,50),\n",
    "                                    save_to_dir= save_here,\n",
    "                                    class_mode='binary',\n",
    "                                    save_prefix='augmented',\n",
    "                                    save_format='png',\n",
    "                                    batch_size=198738)\n",
    "image.next()"
   ]
  },
  {
   "cell_type": "code",
   "execution_count": null,
   "metadata": {},
   "outputs": [],
   "source": [
    "# because of imagedatagenerator is designed to boost images equally from all classes, and have an expectation of specific classification of data, it \n",
    "# was not an easy task for me to simply boost cancer data.  My result is a hack to force it, and i've lost patient and coordinate data.  \n",
    "\n",
    "# from what we are trying to achieve, image processing is the main data source of data, coordinates and patient data is likely not contributing to the ML model\n",
    "# I recommend we drop those columns, and import the augemented cancer data to only provide the ML with images as feature, and Y as known but now balanced 100%.  "
   ]
  }
 ],
 "metadata": {
  "kernelspec": {
   "display_name": "mlenv",
   "language": "python",
   "name": "mlenv"
  },
  "language_info": {
   "codemirror_mode": {
    "name": "ipython",
    "version": 3
   },
   "file_extension": ".py",
   "mimetype": "text/x-python",
   "name": "python",
   "nbconvert_exporter": "python",
   "pygments_lexer": "ipython3",
   "version": "3.7.7"
  }
 },
 "nbformat": 4,
 "nbformat_minor": 4
}
