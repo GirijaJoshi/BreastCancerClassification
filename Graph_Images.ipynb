{
 "cells": [
  {
   "cell_type": "code",
   "execution_count": 31,
   "metadata": {},
   "outputs": [],
   "source": [
    "import os\n",
    "import numpy as np\n",
    "from pprint import pprint\n",
    "from tqdm import tqdm\n",
    "import pandas as pd\n",
    "from datetime import datetime\n",
    "import matplotlib.pyplot as plt"
   ]
  },
  {
   "cell_type": "code",
   "execution_count": 4,
   "metadata": {},
   "outputs": [],
   "source": [
    "# # create a Resources/temp/original in current directory\n",
    "# files = os.listdir(\"Resources/temp/original\")\n",
    "# files"
   ]
  },
  {
   "cell_type": "code",
   "execution_count": 5,
   "metadata": {},
   "outputs": [
    {
     "data": {
      "text/plain": [
       "['10253',\n",
       " '10254',\n",
       " '10255',\n",
       " '10256',\n",
       " '10257',\n",
       " '10258',\n",
       " '10259',\n",
       " '10260',\n",
       " '10261',\n",
       " '10262',\n",
       " '10264',\n",
       " '10268',\n",
       " '10269',\n",
       " '10272',\n",
       " '10273',\n",
       " '10274',\n",
       " '10275',\n",
       " '10276',\n",
       " '10277',\n",
       " '10278',\n",
       " '10279',\n",
       " '10282',\n",
       " '10285',\n",
       " '10286',\n",
       " '10288',\n",
       " '10290',\n",
       " '10291',\n",
       " '10292',\n",
       " '10293',\n",
       " '10295',\n",
       " '10299',\n",
       " '10300',\n",
       " '10301',\n",
       " '10302',\n",
       " '10303',\n",
       " '10304',\n",
       " '10305',\n",
       " '10306',\n",
       " '10307',\n",
       " '10308',\n",
       " '12241',\n",
       " '12242',\n",
       " '12626',\n",
       " '12748',\n",
       " '12749',\n",
       " '12750',\n",
       " '12751',\n",
       " '12752',\n",
       " '12810',\n",
       " '12811',\n",
       " '12817',\n",
       " '12818',\n",
       " '12819',\n",
       " '12820',\n",
       " '12821',\n",
       " '12822',\n",
       " '12823',\n",
       " '12824',\n",
       " '12826',\n",
       " '12867',\n",
       " '12868',\n",
       " '12869',\n",
       " '12870',\n",
       " '12871',\n",
       " '12872',\n",
       " '12873',\n",
       " '12875',\n",
       " '12876',\n",
       " '12877',\n",
       " '12878',\n",
       " '12879',\n",
       " '12880',\n",
       " '12881',\n",
       " '12882',\n",
       " '12883',\n",
       " '12884',\n",
       " '12886',\n",
       " '12890',\n",
       " '12891',\n",
       " '12892',\n",
       " '12893',\n",
       " '12894',\n",
       " '12895',\n",
       " '12896',\n",
       " '12897',\n",
       " '12898',\n",
       " '12900',\n",
       " '12901',\n",
       " '12905',\n",
       " '12906',\n",
       " '12907',\n",
       " '12908',\n",
       " '12909',\n",
       " '12910',\n",
       " '12911',\n",
       " '12929',\n",
       " '12930',\n",
       " '12931',\n",
       " '12932',\n",
       " '12933',\n",
       " '12934',\n",
       " '12935',\n",
       " '12947',\n",
       " '12948',\n",
       " '12949',\n",
       " '12951',\n",
       " '12954',\n",
       " '12955',\n",
       " '13018',\n",
       " '13019',\n",
       " '13020',\n",
       " '13021',\n",
       " '13022',\n",
       " '13023',\n",
       " '13024',\n",
       " '13025',\n",
       " '13106',\n",
       " '13400',\n",
       " '13401',\n",
       " '13402',\n",
       " '13403',\n",
       " '13404',\n",
       " '13458',\n",
       " '13459',\n",
       " '13460',\n",
       " '13461',\n",
       " '13462',\n",
       " '13591',\n",
       " '13613',\n",
       " '13616',\n",
       " '13617',\n",
       " '13666',\n",
       " '13687',\n",
       " '13688',\n",
       " '13689',\n",
       " '13691',\n",
       " '13692',\n",
       " '13693',\n",
       " '13694',\n",
       " '13916',\n",
       " '14078',\n",
       " '14079',\n",
       " '14081',\n",
       " '14082',\n",
       " '14153',\n",
       " '14154',\n",
       " '14155',\n",
       " '14156',\n",
       " '14157',\n",
       " '14188',\n",
       " '14189',\n",
       " '14190',\n",
       " '14191',\n",
       " '14192',\n",
       " '14209',\n",
       " '14210',\n",
       " '14211',\n",
       " '14212',\n",
       " '14213',\n",
       " '14304',\n",
       " '14305',\n",
       " '14306',\n",
       " '14321',\n",
       " '15471',\n",
       " '15472',\n",
       " '15473',\n",
       " '15510',\n",
       " '15512',\n",
       " '15513',\n",
       " '15514',\n",
       " '15515',\n",
       " '15516',\n",
       " '15632',\n",
       " '15633',\n",
       " '15634',\n",
       " '15839',\n",
       " '15840',\n",
       " '15902',\n",
       " '15903',\n",
       " '16014',\n",
       " '16085',\n",
       " '16165',\n",
       " '16166',\n",
       " '16167',\n",
       " '16531',\n",
       " '16532',\n",
       " '16533',\n",
       " '16534',\n",
       " '16550',\n",
       " '16551',\n",
       " '16552',\n",
       " '16553',\n",
       " '16554',\n",
       " '16555',\n",
       " '16568',\n",
       " '16569',\n",
       " '16570',\n",
       " '16895',\n",
       " '16896',\n",
       " '8863',\n",
       " '8864',\n",
       " '8865',\n",
       " '8867',\n",
       " '8913',\n",
       " '8914',\n",
       " '8916',\n",
       " '8917',\n",
       " '8918',\n",
       " '8950',\n",
       " '8951',\n",
       " '8955',\n",
       " '8956',\n",
       " '8957',\n",
       " '8959',\n",
       " '8974',\n",
       " '8975',\n",
       " '8980',\n",
       " '8984',\n",
       " '9022',\n",
       " '9023',\n",
       " '9029',\n",
       " '9035',\n",
       " '9036',\n",
       " '9037',\n",
       " '9041',\n",
       " '9043',\n",
       " '9044',\n",
       " '9073',\n",
       " '9075',\n",
       " '9076',\n",
       " '9077',\n",
       " '9078',\n",
       " '9081',\n",
       " '9083',\n",
       " '9123',\n",
       " '9124',\n",
       " '9125',\n",
       " '9126',\n",
       " '9135',\n",
       " '9173',\n",
       " '9174',\n",
       " '9175',\n",
       " '9176',\n",
       " '9177',\n",
       " '9178',\n",
       " '9181',\n",
       " '9225',\n",
       " '9226',\n",
       " '9227',\n",
       " '9228',\n",
       " '9250',\n",
       " '9254',\n",
       " '9255',\n",
       " '9256',\n",
       " '9257',\n",
       " '9258',\n",
       " '9259',\n",
       " '9260',\n",
       " '9261',\n",
       " '9262',\n",
       " '9265',\n",
       " '9266',\n",
       " '9267',\n",
       " '9290',\n",
       " '9291',\n",
       " '9319',\n",
       " '9320',\n",
       " '9321',\n",
       " '9322',\n",
       " '9323',\n",
       " '9324',\n",
       " '9325',\n",
       " '9344',\n",
       " '9345',\n",
       " '9346',\n",
       " '9347',\n",
       " '9381',\n",
       " '9382',\n",
       " '9383']"
      ]
     },
     "execution_count": 5,
     "metadata": {},
     "output_type": "execute_result"
    }
   ],
   "source": [
    "base_path = 'Resources/'\n",
    "patient_ids = os.listdir(base_path)\n",
    "patient_ids"
   ]
  },
  {
   "cell_type": "code",
   "execution_count": 6,
   "metadata": {},
   "outputs": [],
   "source": [
    "class_0_total = 0\n",
    "class_1_total = 0"
   ]
  },
  {
   "cell_type": "code",
   "execution_count": 7,
   "metadata": {},
   "outputs": [
    {
     "name": "stdout",
     "output_type": "stream",
     "text": [
      "Number of patches in Class 0: 198738\n",
      "Number of patches in Class 1: 78786\n",
      "Total number of patches: 277524\n"
     ]
    }
   ],
   "source": [
    "for patient_id in patient_ids:\n",
    "    class_0_files = os.listdir(base_path + patient_id + '/0')\n",
    "    class_1_files = os.listdir(base_path + patient_id + '/1')\n",
    "\n",
    "    class_0_total += len(class_0_files)\n",
    "    class_1_total += len(class_1_files) \n",
    "\n",
    "total_images = class_0_total + class_1_total\n",
    "    \n",
    "print(f'Number of patches in Class 0: {class_0_total}')\n",
    "print(f'Number of patches in Class 1: {class_1_total}')\n",
    "print(f'Total number of patches: {total_images}')"
   ]
  },
  {
   "cell_type": "code",
   "execution_count": 23,
   "metadata": {},
   "outputs": [],
   "source": [
    "columns = [\"patient_id\",\n",
    "           #'x','y',\n",
    "           \"target\",\"path\"]\n",
    "data_rows = []\n",
    "i = 0\n",
    "iss = 0\n",
    "isss = 0"
   ]
  },
  {
   "cell_type": "code",
   "execution_count": null,
   "metadata": {},
   "outputs": [],
   "source": []
  },
  {
   "cell_type": "code",
   "execution_count": 24,
   "metadata": {},
   "outputs": [
    {
     "name": "stderr",
     "output_type": "stream",
     "text": [
      "100%|███████████████████████████████████████████████████████████████████████████████| 279/279 [00:02<00:00, 136.72it/s]\n"
     ]
    }
   ],
   "source": [
    "#loop through directories and putting images into coordinates with progress meter\n",
    "\n",
    "for patient_id in tqdm(patient_ids):\n",
    "    for c in [0,1]:\n",
    "        \n",
    "        class_path = base_path + patient_id + '/' + str(c) + '/'\n",
    "        # print(class_path)\n",
    "        imgs = os.listdir(class_path)\n",
    "        \n",
    "        # Extracting Image Paths\n",
    "        img_paths = [class_path + img + '/' for img in imgs]\n",
    "        # print(img_paths)\n",
    "\n",
    "        img_coords = [img.split('_',4)[2:4] for img in imgs]\n",
    "        x_coords = [int(coords[0][1:]) for coords in img_coords]\n",
    "        y_coords = [int(coords[1][1:]) for coords in img_coords]\n",
    "\n",
    "        for (path #,x,y\n",
    "            ) in zip(img_paths,x_coords,y_coords):\n",
    "            values = [patient_id,\n",
    "                      #x,y,\n",
    "                      c,path]\n",
    "            data_rows.append({k:v for (k,v) in zip(columns,values)})"
   ]
  },
  {
   "cell_type": "code",
   "execution_count": 25,
   "metadata": {},
   "outputs": [
    {
     "data": {
      "text/html": [
       "<div>\n",
       "<style scoped>\n",
       "    .dataframe tbody tr th:only-of-type {\n",
       "        vertical-align: middle;\n",
       "    }\n",
       "\n",
       "    .dataframe tbody tr th {\n",
       "        vertical-align: top;\n",
       "    }\n",
       "\n",
       "    .dataframe thead th {\n",
       "        text-align: right;\n",
       "    }\n",
       "</style>\n",
       "<table border=\"1\" class=\"dataframe\">\n",
       "  <thead>\n",
       "    <tr style=\"text-align: right;\">\n",
       "      <th></th>\n",
       "      <th>patient_id</th>\n",
       "      <th>target</th>\n",
       "      <th>path</th>\n",
       "    </tr>\n",
       "  </thead>\n",
       "  <tbody>\n",
       "    <tr>\n",
       "      <th>0</th>\n",
       "      <td>10253</td>\n",
       "      <td>0</td>\n",
       "      <td>(Resources/10253/0/10253_idx5_x1001_y1001_clas...</td>\n",
       "    </tr>\n",
       "    <tr>\n",
       "      <th>1</th>\n",
       "      <td>10253</td>\n",
       "      <td>0</td>\n",
       "      <td>(Resources/10253/0/10253_idx5_x1001_y1051_clas...</td>\n",
       "    </tr>\n",
       "    <tr>\n",
       "      <th>2</th>\n",
       "      <td>10253</td>\n",
       "      <td>0</td>\n",
       "      <td>(Resources/10253/0/10253_idx5_x1001_y1101_clas...</td>\n",
       "    </tr>\n",
       "    <tr>\n",
       "      <th>3</th>\n",
       "      <td>10253</td>\n",
       "      <td>0</td>\n",
       "      <td>(Resources/10253/0/10253_idx5_x1001_y1151_clas...</td>\n",
       "    </tr>\n",
       "    <tr>\n",
       "      <th>4</th>\n",
       "      <td>10253</td>\n",
       "      <td>0</td>\n",
       "      <td>(Resources/10253/0/10253_idx5_x1001_y1201_clas...</td>\n",
       "    </tr>\n",
       "    <tr>\n",
       "      <th>...</th>\n",
       "      <td>...</td>\n",
       "      <td>...</td>\n",
       "      <td>...</td>\n",
       "    </tr>\n",
       "    <tr>\n",
       "      <th>277519</th>\n",
       "      <td>9383</td>\n",
       "      <td>1</td>\n",
       "      <td>(Resources/9383/1/9383_idx5_x2051_y901_class1....</td>\n",
       "    </tr>\n",
       "    <tr>\n",
       "      <th>277520</th>\n",
       "      <td>9383</td>\n",
       "      <td>1</td>\n",
       "      <td>(Resources/9383/1/9383_idx5_x2051_y951_class1....</td>\n",
       "    </tr>\n",
       "    <tr>\n",
       "      <th>277521</th>\n",
       "      <td>9383</td>\n",
       "      <td>1</td>\n",
       "      <td>(Resources/9383/1/9383_idx5_x2101_y1001_class1...</td>\n",
       "    </tr>\n",
       "    <tr>\n",
       "      <th>277522</th>\n",
       "      <td>9383</td>\n",
       "      <td>1</td>\n",
       "      <td>(Resources/9383/1/9383_idx5_x2101_y901_class1....</td>\n",
       "    </tr>\n",
       "    <tr>\n",
       "      <th>277523</th>\n",
       "      <td>9383</td>\n",
       "      <td>1</td>\n",
       "      <td>(Resources/9383/1/9383_idx5_x2101_y951_class1....</td>\n",
       "    </tr>\n",
       "  </tbody>\n",
       "</table>\n",
       "<p>277524 rows × 3 columns</p>\n",
       "</div>"
      ],
      "text/plain": [
       "       patient_id  target                                               path\n",
       "0           10253       0  (Resources/10253/0/10253_idx5_x1001_y1001_clas...\n",
       "1           10253       0  (Resources/10253/0/10253_idx5_x1001_y1051_clas...\n",
       "2           10253       0  (Resources/10253/0/10253_idx5_x1001_y1101_clas...\n",
       "3           10253       0  (Resources/10253/0/10253_idx5_x1001_y1151_clas...\n",
       "4           10253       0  (Resources/10253/0/10253_idx5_x1001_y1201_clas...\n",
       "...           ...     ...                                                ...\n",
       "277519       9383       1  (Resources/9383/1/9383_idx5_x2051_y901_class1....\n",
       "277520       9383       1  (Resources/9383/1/9383_idx5_x2051_y951_class1....\n",
       "277521       9383       1  (Resources/9383/1/9383_idx5_x2101_y1001_class1...\n",
       "277522       9383       1  (Resources/9383/1/9383_idx5_x2101_y901_class1....\n",
       "277523       9383       1  (Resources/9383/1/9383_idx5_x2101_y951_class1....\n",
       "\n",
       "[277524 rows x 3 columns]"
      ]
     },
     "execution_count": 25,
     "metadata": {},
     "output_type": "execute_result"
    }
   ],
   "source": [
    "data = pd.DataFrame(data_rows)\n",
    "data"
   ]
  },
  {
   "cell_type": "code",
   "execution_count": 26,
   "metadata": {},
   "outputs": [],
   "source": [
    "# Import our dependencies\n",
    "from sklearn.model_selection import train_test_split\n",
    "from sklearn.preprocessing import StandardScaler,OneHotEncoder\n",
    "import pandas as pd\n",
    "import tensorflow as tf\n"
   ]
  },
  {
   "cell_type": "code",
   "execution_count": 27,
   "metadata": {},
   "outputs": [
    {
     "data": {
      "text/plain": [
       "array([0, 0, 0, ..., 1, 1, 1], dtype=int64)"
      ]
     },
     "execution_count": 27,
     "metadata": {},
     "output_type": "execute_result"
    }
   ],
   "source": [
    "# creating our y from target\n",
    "y = data[\"target\"].values\n",
    "y"
   ]
  },
  {
   "cell_type": "code",
   "execution_count": 29,
   "metadata": {},
   "outputs": [
    {
     "data": {
      "text/html": [
       "<div>\n",
       "<style scoped>\n",
       "    .dataframe tbody tr th:only-of-type {\n",
       "        vertical-align: middle;\n",
       "    }\n",
       "\n",
       "    .dataframe tbody tr th {\n",
       "        vertical-align: top;\n",
       "    }\n",
       "\n",
       "    .dataframe thead th {\n",
       "        text-align: right;\n",
       "    }\n",
       "</style>\n",
       "<table border=\"1\" class=\"dataframe\">\n",
       "  <thead>\n",
       "    <tr style=\"text-align: right;\">\n",
       "      <th></th>\n",
       "      <th>target</th>\n",
       "      <th>path</th>\n",
       "    </tr>\n",
       "  </thead>\n",
       "  <tbody>\n",
       "    <tr>\n",
       "      <th>0</th>\n",
       "      <td>0</td>\n",
       "      <td>(Resources/10253/0/10253_idx5_x1001_y1001_clas...</td>\n",
       "    </tr>\n",
       "    <tr>\n",
       "      <th>1</th>\n",
       "      <td>0</td>\n",
       "      <td>(Resources/10253/0/10253_idx5_x1001_y1051_clas...</td>\n",
       "    </tr>\n",
       "    <tr>\n",
       "      <th>2</th>\n",
       "      <td>0</td>\n",
       "      <td>(Resources/10253/0/10253_idx5_x1001_y1101_clas...</td>\n",
       "    </tr>\n",
       "    <tr>\n",
       "      <th>3</th>\n",
       "      <td>0</td>\n",
       "      <td>(Resources/10253/0/10253_idx5_x1001_y1151_clas...</td>\n",
       "    </tr>\n",
       "    <tr>\n",
       "      <th>4</th>\n",
       "      <td>0</td>\n",
       "      <td>(Resources/10253/0/10253_idx5_x1001_y1201_clas...</td>\n",
       "    </tr>\n",
       "    <tr>\n",
       "      <th>...</th>\n",
       "      <td>...</td>\n",
       "      <td>...</td>\n",
       "    </tr>\n",
       "    <tr>\n",
       "      <th>277519</th>\n",
       "      <td>1</td>\n",
       "      <td>(Resources/9383/1/9383_idx5_x2051_y901_class1....</td>\n",
       "    </tr>\n",
       "    <tr>\n",
       "      <th>277520</th>\n",
       "      <td>1</td>\n",
       "      <td>(Resources/9383/1/9383_idx5_x2051_y951_class1....</td>\n",
       "    </tr>\n",
       "    <tr>\n",
       "      <th>277521</th>\n",
       "      <td>1</td>\n",
       "      <td>(Resources/9383/1/9383_idx5_x2101_y1001_class1...</td>\n",
       "    </tr>\n",
       "    <tr>\n",
       "      <th>277522</th>\n",
       "      <td>1</td>\n",
       "      <td>(Resources/9383/1/9383_idx5_x2101_y901_class1....</td>\n",
       "    </tr>\n",
       "    <tr>\n",
       "      <th>277523</th>\n",
       "      <td>1</td>\n",
       "      <td>(Resources/9383/1/9383_idx5_x2101_y951_class1....</td>\n",
       "    </tr>\n",
       "  </tbody>\n",
       "</table>\n",
       "<p>277524 rows × 2 columns</p>\n",
       "</div>"
      ],
      "text/plain": [
       "        target                                               path\n",
       "0            0  (Resources/10253/0/10253_idx5_x1001_y1001_clas...\n",
       "1            0  (Resources/10253/0/10253_idx5_x1001_y1051_clas...\n",
       "2            0  (Resources/10253/0/10253_idx5_x1001_y1101_clas...\n",
       "3            0  (Resources/10253/0/10253_idx5_x1001_y1151_clas...\n",
       "4            0  (Resources/10253/0/10253_idx5_x1001_y1201_clas...\n",
       "...        ...                                                ...\n",
       "277519       1  (Resources/9383/1/9383_idx5_x2051_y901_class1....\n",
       "277520       1  (Resources/9383/1/9383_idx5_x2051_y951_class1....\n",
       "277521       1  (Resources/9383/1/9383_idx5_x2101_y1001_class1...\n",
       "277522       1  (Resources/9383/1/9383_idx5_x2101_y901_class1....\n",
       "277523       1  (Resources/9383/1/9383_idx5_x2101_y951_class1....\n",
       "\n",
       "[277524 rows x 2 columns]"
      ]
     },
     "execution_count": 29,
     "metadata": {},
     "output_type": "execute_result"
    }
   ],
   "source": [
    "# removing y from data\n",
    "data1 = data.drop('target', 1)\n",
    "data2 = data.drop('patient_id', 1)\n",
    "data2"
   ]
  },
  {
   "cell_type": "code",
   "execution_count": 57,
   "metadata": {},
   "outputs": [
    {
     "data": {
      "text/plain": [
       "('Resources/10260/1/10260_idx5_x1001_y751_class1.png/', 1001, 751)"
      ]
     },
     "execution_count": 57,
     "metadata": {},
     "output_type": "execute_result"
    }
   ],
   "source": [
    "# encoding our data1 \n",
    "\n",
    "data.loc[idx, \"path\"]\n"
   ]
  },
  {
   "cell_type": "code",
   "execution_count": 32,
   "metadata": {},
   "outputs": [],
   "source": [
    "# randomly select some candidates for image showcase \n",
    "\n",
    "pos_selection = np.random.choice(data[data.target==1].index.values, size=50, replace=False)\n",
    "neg_selection = np.random.choice(data[data.target==0].index.values, size=50, replace=False)"
   ]
  },
  {
   "cell_type": "code",
   "execution_count": 58,
   "metadata": {},
   "outputs": [
    {
     "data": {
      "text/plain": [
       "array([  5708, 194776, 167802,  70274, 276725,  44265, 276714, 158565,\n",
       "       191622,  41403,  57916, 133760,  56474, 222722, 251119,  42451,\n",
       "        16376, 168214, 126633, 242855, 247856,  74617, 211157, 183116,\n",
       "        36460,  20962,  89118, 169792, 131096,  37755,    488, 160750,\n",
       "       175420, 237861,  72443, 121981, 215755, 149821,   5711, 114467,\n",
       "        17071,  78238, 132343,   2584,  31971,   8172, 269308,  73856,\n",
       "       109278, 273192], dtype=int64)"
      ]
     },
     "execution_count": 58,
     "metadata": {},
     "output_type": "execute_result"
    }
   ],
   "source": [
    "pos_selection"
   ]
  },
  {
   "cell_type": "code",
   "execution_count": 45,
   "metadata": {},
   "outputs": [
    {
     "ename": "TypeError",
     "evalue": "expected str, bytes or os.PathLike object, not int",
     "output_type": "error",
     "traceback": [
      "\u001b[1;31m---------------------------------------------------------------------------\u001b[0m",
      "\u001b[1;31mTypeError\u001b[0m                                 Traceback (most recent call last)",
      "\u001b[1;32m<ipython-input-45-b2227145e88d>\u001b[0m in \u001b[0;36m<module>\u001b[1;34m\u001b[0m\n\u001b[0;32m      8\u001b[0m     \u001b[1;32mfor\u001b[0m \u001b[0mm\u001b[0m \u001b[1;32min\u001b[0m \u001b[0mrange\u001b[0m\u001b[1;33m(\u001b[0m\u001b[1;36m10\u001b[0m\u001b[1;33m)\u001b[0m\u001b[1;33m:\u001b[0m\u001b[1;33m\u001b[0m\u001b[1;33m\u001b[0m\u001b[0m\n\u001b[0;32m      9\u001b[0m         \u001b[0midx\u001b[0m \u001b[1;33m=\u001b[0m \u001b[0mpos_selection\u001b[0m\u001b[1;33m[\u001b[0m\u001b[0mm\u001b[0m \u001b[1;33m+\u001b[0m \u001b[1;36m10\u001b[0m\u001b[1;33m*\u001b[0m\u001b[0mn\u001b[0m\u001b[1;33m]\u001b[0m\u001b[1;33m\u001b[0m\u001b[1;33m\u001b[0m\u001b[0m\n\u001b[1;32m---> 10\u001b[1;33m         \u001b[0mimage\u001b[0m \u001b[1;33m=\u001b[0m \u001b[0mimread\u001b[0m\u001b[1;33m(\u001b[0m\u001b[0mdata\u001b[0m\u001b[1;33m.\u001b[0m\u001b[0mloc\u001b[0m\u001b[1;33m[\u001b[0m\u001b[0midx\u001b[0m\u001b[1;33m]\u001b[0m\u001b[1;33m)\u001b[0m\u001b[1;33m\u001b[0m\u001b[1;33m\u001b[0m\u001b[0m\n\u001b[0m\u001b[0;32m     11\u001b[0m         \u001b[0max\u001b[0m\u001b[1;33m[\u001b[0m\u001b[0mn\u001b[0m\u001b[1;33m,\u001b[0m\u001b[0mm\u001b[0m\u001b[1;33m]\u001b[0m\u001b[1;33m.\u001b[0m\u001b[0mimshow\u001b[0m\u001b[1;33m(\u001b[0m\u001b[0mimage\u001b[0m\u001b[1;33m)\u001b[0m\u001b[1;33m\u001b[0m\u001b[1;33m\u001b[0m\u001b[0m\n\u001b[0;32m     12\u001b[0m         \u001b[0max\u001b[0m\u001b[1;33m[\u001b[0m\u001b[0mn\u001b[0m\u001b[1;33m,\u001b[0m\u001b[0mm\u001b[0m\u001b[1;33m]\u001b[0m\u001b[1;33m.\u001b[0m\u001b[0mgrid\u001b[0m\u001b[1;33m(\u001b[0m\u001b[1;32mFalse\u001b[0m\u001b[1;33m)\u001b[0m\u001b[1;33m\u001b[0m\u001b[1;33m\u001b[0m\u001b[0m\n",
      "\u001b[1;32m~\\AppData\\Roaming\\Python\\Python37\\site-packages\\matplotlib\\pyplot.py\u001b[0m in \u001b[0;36mimread\u001b[1;34m(fname, format)\u001b[0m\n\u001b[0;32m   2059\u001b[0m \u001b[1;33m@\u001b[0m\u001b[0mdocstring\u001b[0m\u001b[1;33m.\u001b[0m\u001b[0mcopy\u001b[0m\u001b[1;33m(\u001b[0m\u001b[0mmatplotlib\u001b[0m\u001b[1;33m.\u001b[0m\u001b[0mimage\u001b[0m\u001b[1;33m.\u001b[0m\u001b[0mimread\u001b[0m\u001b[1;33m)\u001b[0m\u001b[1;33m\u001b[0m\u001b[1;33m\u001b[0m\u001b[0m\n\u001b[0;32m   2060\u001b[0m \u001b[1;32mdef\u001b[0m \u001b[0mimread\u001b[0m\u001b[1;33m(\u001b[0m\u001b[0mfname\u001b[0m\u001b[1;33m,\u001b[0m \u001b[0mformat\u001b[0m\u001b[1;33m=\u001b[0m\u001b[1;32mNone\u001b[0m\u001b[1;33m)\u001b[0m\u001b[1;33m:\u001b[0m\u001b[1;33m\u001b[0m\u001b[1;33m\u001b[0m\u001b[0m\n\u001b[1;32m-> 2061\u001b[1;33m     \u001b[1;32mreturn\u001b[0m \u001b[0mmatplotlib\u001b[0m\u001b[1;33m.\u001b[0m\u001b[0mimage\u001b[0m\u001b[1;33m.\u001b[0m\u001b[0mimread\u001b[0m\u001b[1;33m(\u001b[0m\u001b[0mfname\u001b[0m\u001b[1;33m,\u001b[0m \u001b[0mformat\u001b[0m\u001b[1;33m)\u001b[0m\u001b[1;33m\u001b[0m\u001b[1;33m\u001b[0m\u001b[0m\n\u001b[0m\u001b[0;32m   2062\u001b[0m \u001b[1;33m\u001b[0m\u001b[0m\n\u001b[0;32m   2063\u001b[0m \u001b[1;33m\u001b[0m\u001b[0m\n",
      "\u001b[1;32m~\\AppData\\Roaming\\Python\\Python37\\site-packages\\matplotlib\\image.py\u001b[0m in \u001b[0;36mimread\u001b[1;34m(fname, format)\u001b[0m\n\u001b[0;32m   1450\u001b[0m             \u001b[0mext\u001b[0m \u001b[1;33m=\u001b[0m \u001b[1;34m'png'\u001b[0m\u001b[1;33m\u001b[0m\u001b[1;33m\u001b[0m\u001b[0m\n\u001b[0;32m   1451\u001b[0m         \u001b[1;32melif\u001b[0m \u001b[0mhasattr\u001b[0m\u001b[1;33m(\u001b[0m\u001b[0mfname\u001b[0m\u001b[1;33m,\u001b[0m \u001b[1;34m'name'\u001b[0m\u001b[1;33m)\u001b[0m\u001b[1;33m:\u001b[0m\u001b[1;33m\u001b[0m\u001b[1;33m\u001b[0m\u001b[0m\n\u001b[1;32m-> 1452\u001b[1;33m             \u001b[0mbasename\u001b[0m\u001b[1;33m,\u001b[0m \u001b[0mext\u001b[0m \u001b[1;33m=\u001b[0m \u001b[0mos\u001b[0m\u001b[1;33m.\u001b[0m\u001b[0mpath\u001b[0m\u001b[1;33m.\u001b[0m\u001b[0msplitext\u001b[0m\u001b[1;33m(\u001b[0m\u001b[0mfname\u001b[0m\u001b[1;33m.\u001b[0m\u001b[0mname\u001b[0m\u001b[1;33m)\u001b[0m\u001b[1;33m\u001b[0m\u001b[1;33m\u001b[0m\u001b[0m\n\u001b[0m\u001b[0;32m   1453\u001b[0m             \u001b[0mext\u001b[0m \u001b[1;33m=\u001b[0m \u001b[0mext\u001b[0m\u001b[1;33m.\u001b[0m\u001b[0mlower\u001b[0m\u001b[1;33m(\u001b[0m\u001b[1;33m)\u001b[0m\u001b[1;33m[\u001b[0m\u001b[1;36m1\u001b[0m\u001b[1;33m:\u001b[0m\u001b[1;33m]\u001b[0m\u001b[1;33m\u001b[0m\u001b[1;33m\u001b[0m\u001b[0m\n\u001b[0;32m   1454\u001b[0m         \u001b[1;32melse\u001b[0m\u001b[1;33m:\u001b[0m\u001b[1;33m\u001b[0m\u001b[1;33m\u001b[0m\u001b[0m\n",
      "\u001b[1;32m~\\anaconda3\\envs\\mlenv\\lib\\ntpath.py\u001b[0m in \u001b[0;36msplitext\u001b[1;34m(p)\u001b[0m\n\u001b[0;32m    200\u001b[0m \u001b[1;33m\u001b[0m\u001b[0m\n\u001b[0;32m    201\u001b[0m \u001b[1;32mdef\u001b[0m \u001b[0msplitext\u001b[0m\u001b[1;33m(\u001b[0m\u001b[0mp\u001b[0m\u001b[1;33m)\u001b[0m\u001b[1;33m:\u001b[0m\u001b[1;33m\u001b[0m\u001b[1;33m\u001b[0m\u001b[0m\n\u001b[1;32m--> 202\u001b[1;33m     \u001b[0mp\u001b[0m \u001b[1;33m=\u001b[0m \u001b[0mos\u001b[0m\u001b[1;33m.\u001b[0m\u001b[0mfspath\u001b[0m\u001b[1;33m(\u001b[0m\u001b[0mp\u001b[0m\u001b[1;33m)\u001b[0m\u001b[1;33m\u001b[0m\u001b[1;33m\u001b[0m\u001b[0m\n\u001b[0m\u001b[0;32m    203\u001b[0m     \u001b[1;32mif\u001b[0m \u001b[0misinstance\u001b[0m\u001b[1;33m(\u001b[0m\u001b[0mp\u001b[0m\u001b[1;33m,\u001b[0m \u001b[0mbytes\u001b[0m\u001b[1;33m)\u001b[0m\u001b[1;33m:\u001b[0m\u001b[1;33m\u001b[0m\u001b[1;33m\u001b[0m\u001b[0m\n\u001b[0;32m    204\u001b[0m         \u001b[1;32mreturn\u001b[0m \u001b[0mgenericpath\u001b[0m\u001b[1;33m.\u001b[0m\u001b[0m_splitext\u001b[0m\u001b[1;33m(\u001b[0m\u001b[0mp\u001b[0m\u001b[1;33m,\u001b[0m \u001b[1;34mb'\\\\'\u001b[0m\u001b[1;33m,\u001b[0m \u001b[1;34mb'/'\u001b[0m\u001b[1;33m,\u001b[0m \u001b[1;34mb'.'\u001b[0m\u001b[1;33m)\u001b[0m\u001b[1;33m\u001b[0m\u001b[1;33m\u001b[0m\u001b[0m\n",
      "\u001b[1;31mTypeError\u001b[0m: expected str, bytes or os.PathLike object, not int"
     ]
    },
    {
     "data": {
      "image/png": "[encoded data removed]",
      "text/plain": [
       "<Figure size 1440x720 with 50 Axes>"
      ]
     },
     "metadata": {
      "needs_background": "light"
     },
     "output_type": "display_data"
    }
   ],
   "source": [
    "# showcasing the random images of positive idc \n",
    "from matplotlib.pyplot import imshow, imread\n",
    "import numpy as np\n",
    "\n",
    "fig, ax = plt.subplots(5,10,figsize=(20,10))\n",
    "\n",
    "\n",
    "\n",
    "for n in range(5):\n",
    "    for m in range(10):\n",
    "        idx = pos_selection[m + 1 0*n]\n",
    "        image = imread(data.loc[idx])\n",
    "        ax[n,m].imshow(image)\n",
    "        ax[n,m].grid(False)\n",
    "\n"
   ]
  },
  {
   "cell_type": "code",
   "execution_count": 15,
   "metadata": {},
   "outputs": [
    {
     "data": {
      "text/plain": [
       "(555527, 5)"
      ]
     },
     "execution_count": 15,
     "metadata": {},
     "output_type": "execute_result"
    }
   ],
   "source": [
    "data.shape"
   ]
  },
  {
   "cell_type": "code",
   "execution_count": 16,
   "metadata": {},
   "outputs": [
    {
     "data": {
      "text/plain": [
       "13693    4790\n",
       "16550    4604\n",
       "10288    4556\n",
       "10308    4556\n",
       "9323     4432\n",
       "         ... \n",
       "16895     302\n",
       "9175      236\n",
       "8957      222\n",
       "9262      188\n",
       "16534     126\n",
       "Name: patient_id, Length: 279, dtype: int64"
      ]
     },
     "execution_count": 16,
     "metadata": {},
     "output_type": "execute_result"
    }
   ],
   "source": [
    "data.patient_id.value_counts()"
   ]
  },
  {
   "cell_type": "code",
   "execution_count": 17,
   "metadata": {},
   "outputs": [
    {
     "data": {
      "text/plain": [
       "patient_id  target\n",
       "10253       0         1437\n",
       "            1          140\n",
       "10254       0         1544\n",
       "            1          152\n",
       "10255       0          362\n",
       "                      ... \n",
       "9381        1          256\n",
       "9382        0         2612\n",
       "            1          692\n",
       "9383        0          988\n",
       "            1          140\n",
       "Name: target, Length: 558, dtype: int64"
      ]
     },
     "execution_count": 17,
     "metadata": {},
     "output_type": "execute_result"
    }
   ],
   "source": [
    "target_count = data.groupby('patient_id').target.value_counts()\n",
    "target_count"
   ]
  },
  {
   "cell_type": "code",
   "execution_count": 18,
   "metadata": {},
   "outputs": [
    {
     "data": {
      "text/plain": [
       "patient_id\n",
       "10253    1577\n",
       "10254    1696\n",
       "10255     544\n",
       "10256     936\n",
       "10257    1270\n",
       "         ... \n",
       "9346     2722\n",
       "9347      820\n",
       "9381     2652\n",
       "9382     3304\n",
       "9383     1128\n",
       "Name: target, Length: 279, dtype: int64"
      ]
     },
     "execution_count": 18,
     "metadata": {},
     "output_type": "execute_result"
    }
   ],
   "source": [
    "target_size = data.groupby('patient_id').target.size()\n",
    "target_size"
   ]
  },
  {
   "cell_type": "code",
   "execution_count": 19,
   "metadata": {},
   "outputs": [
    {
     "data": {
      "text/plain": [
       "array(['10253', '10254', '10255', '10256', '10257', '10258', '10259',\n",
       "       '10260', '10261', '10262', '10264', '10268', '10269', '10272',\n",
       "       '10273', '10274', '10275', '10276', '10277', '10278', '10279',\n",
       "       '10282', '10285', '10286', '10288', '10290', '10291', '10292',\n",
       "       '10293', '10295', '10299', '10300', '10301', '10302', '10303',\n",
       "       '10304', '10305', '10306', '10307', '10308', '12241', '12242',\n",
       "       '12626', '12748', '12749', '12750', '12751', '12752', '12810',\n",
       "       '12811', '12817', '12818', '12819', '12820', '12821', '12822',\n",
       "       '12823', '12824', '12826', '12867', '12868', '12869', '12870',\n",
       "       '12871', '12872', '12873', '12875', '12876', '12877', '12878',\n",
       "       '12879', '12880', '12881', '12882', '12883', '12884', '12886',\n",
       "       '12890', '12891', '12892', '12893', '12894', '12895', '12896',\n",
       "       '12897', '12898', '12900', '12901', '12905', '12906', '12907',\n",
       "       '12908', '12909', '12910', '12911', '12929', '12930', '12931',\n",
       "       '12932', '12933', '12934', '12935', '12947', '12948', '12949',\n",
       "       '12951', '12954', '12955', '13018', '13019', '13020', '13021',\n",
       "       '13022', '13023', '13024', '13025', '13106', '13400', '13401',\n",
       "       '13402', '13403', '13404', '13458', '13459', '13460', '13461',\n",
       "       '13462', '13591', '13613', '13616', '13617', '13666', '13687',\n",
       "       '13688', '13689', '13691', '13692', '13693', '13694', '13916',\n",
       "       '14078', '14079', '14081', '14082', '14153', '14154', '14155',\n",
       "       '14156', '14157', '14188', '14189', '14190', '14191', '14192',\n",
       "       '14209', '14210', '14211', '14212', '14213', '14304', '14305',\n",
       "       '14306', '14321', '15471', '15472', '15473', '15510', '15512',\n",
       "       '15513', '15514', '15515', '15516', '15632', '15633', '15634',\n",
       "       '15839', '15840', '15902', '15903', '16014', '16085', '16165',\n",
       "       '16166', '16167', '16531', '16532', '16533', '16534', '16550',\n",
       "       '16551', '16552', '16553', '16554', '16555', '16568', '16569',\n",
       "       '16570', '16895', '16896', '8863', '8864', '8865', '8867', '8913',\n",
       "       '8914', '8916', '8917', '8918', '8950', '8951', '8955', '8956',\n",
       "       '8957', '8959', '8974', '8975', '8980', '8984', '9022', '9023',\n",
       "       '9029', '9035', '9036', '9037', '9041', '9043', '9044', '9073',\n",
       "       '9075', '9076', '9077', '9078', '9081', '9083', '9123', '9124',\n",
       "       '9125', '9126', '9135', '9173', '9174', '9175', '9176', '9177',\n",
       "       '9178', '9181', '9225', '9226', '9227', '9228', '9250', '9254',\n",
       "       '9255', '9256', '9257', '9258', '9259', '9260', '9261', '9262',\n",
       "       '9265', '9266', '9267', '9290', '9291', '9319', '9320', '9321',\n",
       "       '9322', '9323', '9324', '9325', '9344', '9345', '9346', '9347',\n",
       "       '9381', '9382', '9383'], dtype=object)"
      ]
     },
     "execution_count": 19,
     "metadata": {},
     "output_type": "execute_result"
    }
   ],
   "source": [
    "pids = data.patient_id.unique()\n",
    "pids"
   ]
  },
  {
   "cell_type": "code",
   "execution_count": 20,
   "metadata": {},
   "outputs": [
    {
     "data": {
      "image/png": "[encoded data removed]",
      "text/plain": [
       "<Figure size 432x288 with 1 Axes>"
      ]
     },
     "metadata": {
      "needs_background": "light"
     },
     "output_type": "display_data"
    }
   ],
   "source": [
    "fig = plt.figure()\n",
    "ax = fig.add_axes([0,0,1,1])\n",
    "ax.set_title('ICD frequnct in different groups')\n",
    "ax.set_ylabel('Frequency')\n",
    "ax.set_xlabel('Patient ID')\n",
    "ax.bar(pids,  data.groupby('patient_id').target.size())\n",
    "plt.show()"
   ]
  }
 ],
 "metadata": {
  "kernelspec": {
   "display_name": "mlenv",
   "language": "python",
   "name": "mlenv"
  },
  "language_info": {
   "codemirror_mode": {
    "name": "ipython",
    "version": 3
   },
   "file_extension": ".py",
   "mimetype": "text/x-python",
   "name": "python",
   "nbconvert_exporter": "python",
   "pygments_lexer": "ipython3",
   "version": "3.7.7"
  }
 },
 "nbformat": 4,
 "nbformat_minor": 4
}
