{
 "cells": [
  {
   "cell_type": "code",
   "execution_count": 1,
   "metadata": {},
   "outputs": [],
   "source": [
    "import os\n",
    "from pprint import pprint\n",
    "from tqdm import tqdm\n",
    "import pandas as pd\n",
    "from datetime import datetime\n",
    "import matplotlib.pyplot as plt"
   ]
  },
  {
   "cell_type": "code",
   "execution_count": 2,
   "metadata": {},
   "outputs": [
    {
     "data": {
      "text/plain": [
       "['8863', '8864']"
      ]
     },
     "execution_count": 2,
     "metadata": {},
     "output_type": "execute_result"
    }
   ],
   "source": [
    "# create a Resources/temp/original in current directory\n",
    "files = os.listdir(\"Resources/temp/original\")\n",
    "files"
   ]
  },
  {
   "cell_type": "code",
   "execution_count": 4,
   "metadata": {},
   "outputs": [
    {
     "data": {
      "text/plain": [
       "['8863', '8864']"
      ]
     },
     "execution_count": 4,
     "metadata": {},
     "output_type": "execute_result"
    }
   ],
   "source": [
    "base_path = 'Resources/temp/original/'\n",
    "patient_ids = os.listdir(base_path)\n",
    "patient_ids"
   ]
  },
  {
   "cell_type": "code",
   "execution_count": 5,
   "metadata": {},
   "outputs": [],
   "source": [
    "class_0_total = 0\n",
    "class_1_total = 0"
   ]
  },
  {
   "cell_type": "code",
   "execution_count": 7,
   "metadata": {},
   "outputs": [
    {
     "name": "stdout",
     "output_type": "stream",
     "text": [
      "Number of patches in Class 0: 1577\n",
      "Number of patches in Class 1: 535\n",
      "Total number of patches: 2112\n"
     ]
    }
   ],
   "source": [
    "for patient_id in patient_ids:\n",
    "    class_0_files = os.listdir(base_path + patient_id + '/0')\n",
    "    class_1_files = os.listdir(base_path + patient_id + '/1')\n",
    "\n",
    "    class_0_total += len(class_0_files)\n",
    "    class_1_total += len(class_1_files) \n",
    "\n",
    "total_images = class_0_total + class_1_total\n",
    "    \n",
    "print(f'Number of patches in Class 0: {class_0_total}')\n",
    "print(f'Number of patches in Class 1: {class_1_total}')\n",
    "print(f'Total number of patches: {total_images}')"
   ]
  },
  {
   "cell_type": "code",
   "execution_count": 8,
   "metadata": {},
   "outputs": [],
   "source": [
    "columns = [\"patient_id\",'x','y',\"target\",\"path\"]\n",
    "data_rows = []\n",
    "i = 0\n",
    "iss = 0\n",
    "isss = 0"
   ]
  },
  {
   "cell_type": "code",
   "execution_count": 10,
   "metadata": {},
   "outputs": [
    {
     "name": "stderr",
     "output_type": "stream",
     "text": [
      "100%|████████████████████████████████████████████████████████████████████████████████████| 2/2 [00:00<00:00, 52.15it/s]\n"
     ]
    }
   ],
   "source": [
    "for patient_id in tqdm(patient_ids):\n",
    "    for c in [0,1]:\n",
    "        \n",
    "        class_path = base_path + patient_id + '/' + str(c) + '/'\n",
    "        # print(class_path)\n",
    "        imgs = os.listdir(class_path)\n",
    "        \n",
    "        # Extracting Image Paths\n",
    "        img_paths = [class_path + img + '/' for img in imgs]\n",
    "        # print(img_paths)\n",
    "\n",
    "        img_coords = [img.split('_',4)[2:4] for img in imgs]\n",
    "        x_coords = [int(coords[0][1:]) for coords in img_coords]\n",
    "        y_coords = [int(coords[1][1:]) for coords in img_coords]\n",
    "\n",
    "        for (path,x,y) in zip(img_paths,x_coords,y_coords):\n",
    "            values = [patient_id,x,y,c,path]\n",
    "            data_rows.append({k:v for (k,v) in zip(columns,values)})"
   ]
  },
  {
   "cell_type": "code",
   "execution_count": 12,
   "metadata": {},
   "outputs": [
    {
     "data": {
      "text/html": [
       "<div>\n",
       "<style scoped>\n",
       "    .dataframe tbody tr th:only-of-type {\n",
       "        vertical-align: middle;\n",
       "    }\n",
       "\n",
       "    .dataframe tbody tr th {\n",
       "        vertical-align: top;\n",
       "    }\n",
       "\n",
       "    .dataframe thead th {\n",
       "        text-align: right;\n",
       "    }\n",
       "</style>\n",
       "<table border=\"1\" class=\"dataframe\">\n",
       "  <thead>\n",
       "    <tr style=\"text-align: right;\">\n",
       "      <th></th>\n",
       "      <th>patient_id</th>\n",
       "      <th>x</th>\n",
       "      <th>y</th>\n",
       "      <th>target</th>\n",
       "      <th>path</th>\n",
       "    </tr>\n",
       "  </thead>\n",
       "  <tbody>\n",
       "    <tr>\n",
       "      <th>0</th>\n",
       "      <td>8863</td>\n",
       "      <td>1001</td>\n",
       "      <td>1001</td>\n",
       "      <td>0</td>\n",
       "      <td>Resources/temp/original/8863/0/8863_idx5_x1001...</td>\n",
       "    </tr>\n",
       "    <tr>\n",
       "      <th>1</th>\n",
       "      <td>8863</td>\n",
       "      <td>1001</td>\n",
       "      <td>1051</td>\n",
       "      <td>0</td>\n",
       "      <td>Resources/temp/original/8863/0/8863_idx5_x1001...</td>\n",
       "    </tr>\n",
       "    <tr>\n",
       "      <th>2</th>\n",
       "      <td>8863</td>\n",
       "      <td>1001</td>\n",
       "      <td>1101</td>\n",
       "      <td>0</td>\n",
       "      <td>Resources/temp/original/8863/0/8863_idx5_x1001...</td>\n",
       "    </tr>\n",
       "    <tr>\n",
       "      <th>3</th>\n",
       "      <td>8863</td>\n",
       "      <td>1001</td>\n",
       "      <td>1151</td>\n",
       "      <td>0</td>\n",
       "      <td>Resources/temp/original/8863/0/8863_idx5_x1001...</td>\n",
       "    </tr>\n",
       "    <tr>\n",
       "      <th>4</th>\n",
       "      <td>8863</td>\n",
       "      <td>1001</td>\n",
       "      <td>1201</td>\n",
       "      <td>0</td>\n",
       "      <td>Resources/temp/original/8863/0/8863_idx5_x1001...</td>\n",
       "    </tr>\n",
       "    <tr>\n",
       "      <th>...</th>\n",
       "      <td>...</td>\n",
       "      <td>...</td>\n",
       "      <td>...</td>\n",
       "      <td>...</td>\n",
       "      <td>...</td>\n",
       "    </tr>\n",
       "    <tr>\n",
       "      <th>4219</th>\n",
       "      <td>8864</td>\n",
       "      <td>2501</td>\n",
       "      <td>2551</td>\n",
       "      <td>1</td>\n",
       "      <td>Resources/temp/original/8864/1/8864_idx5_x2501...</td>\n",
       "    </tr>\n",
       "    <tr>\n",
       "      <th>4220</th>\n",
       "      <td>8864</td>\n",
       "      <td>2501</td>\n",
       "      <td>2601</td>\n",
       "      <td>1</td>\n",
       "      <td>Resources/temp/original/8864/1/8864_idx5_x2501...</td>\n",
       "    </tr>\n",
       "    <tr>\n",
       "      <th>4221</th>\n",
       "      <td>8864</td>\n",
       "      <td>2501</td>\n",
       "      <td>2651</td>\n",
       "      <td>1</td>\n",
       "      <td>Resources/temp/original/8864/1/8864_idx5_x2501...</td>\n",
       "    </tr>\n",
       "    <tr>\n",
       "      <th>4222</th>\n",
       "      <td>8864</td>\n",
       "      <td>2501</td>\n",
       "      <td>2701</td>\n",
       "      <td>1</td>\n",
       "      <td>Resources/temp/original/8864/1/8864_idx5_x2501...</td>\n",
       "    </tr>\n",
       "    <tr>\n",
       "      <th>4223</th>\n",
       "      <td>8864</td>\n",
       "      <td>2501</td>\n",
       "      <td>2751</td>\n",
       "      <td>1</td>\n",
       "      <td>Resources/temp/original/8864/1/8864_idx5_x2501...</td>\n",
       "    </tr>\n",
       "  </tbody>\n",
       "</table>\n",
       "<p>4224 rows × 5 columns</p>\n",
       "</div>"
      ],
      "text/plain": [
       "     patient_id     x     y  target  \\\n",
       "0          8863  1001  1001       0   \n",
       "1          8863  1001  1051       0   \n",
       "2          8863  1001  1101       0   \n",
       "3          8863  1001  1151       0   \n",
       "4          8863  1001  1201       0   \n",
       "...         ...   ...   ...     ...   \n",
       "4219       8864  2501  2551       1   \n",
       "4220       8864  2501  2601       1   \n",
       "4221       8864  2501  2651       1   \n",
       "4222       8864  2501  2701       1   \n",
       "4223       8864  2501  2751       1   \n",
       "\n",
       "                                                   path  \n",
       "0     Resources/temp/original/8863/0/8863_idx5_x1001...  \n",
       "1     Resources/temp/original/8863/0/8863_idx5_x1001...  \n",
       "2     Resources/temp/original/8863/0/8863_idx5_x1001...  \n",
       "3     Resources/temp/original/8863/0/8863_idx5_x1001...  \n",
       "4     Resources/temp/original/8863/0/8863_idx5_x1001...  \n",
       "...                                                 ...  \n",
       "4219  Resources/temp/original/8864/1/8864_idx5_x2501...  \n",
       "4220  Resources/temp/original/8864/1/8864_idx5_x2501...  \n",
       "4221  Resources/temp/original/8864/1/8864_idx5_x2501...  \n",
       "4222  Resources/temp/original/8864/1/8864_idx5_x2501...  \n",
       "4223  Resources/temp/original/8864/1/8864_idx5_x2501...  \n",
       "\n",
       "[4224 rows x 5 columns]"
      ]
     },
     "execution_count": 12,
     "metadata": {},
     "output_type": "execute_result"
    }
   ],
   "source": [
    "data = pd.DataFrame(data_rows)\n",
    "data"
   ]
  },
  {
   "cell_type": "code",
   "execution_count": 13,
   "metadata": {},
   "outputs": [
    {
     "data": {
      "text/plain": [
       "(4224, 5)"
      ]
     },
     "execution_count": 13,
     "metadata": {},
     "output_type": "execute_result"
    }
   ],
   "source": [
    "data.shape"
   ]
  },
  {
   "cell_type": "code",
   "execution_count": 14,
   "metadata": {},
   "outputs": [
    {
     "data": {
      "text/plain": [
       "8864    2266\n",
       "8863    1958\n",
       "Name: patient_id, dtype: int64"
      ]
     },
     "execution_count": 14,
     "metadata": {},
     "output_type": "execute_result"
    }
   ],
   "source": [
    "data.patient_id.value_counts()"
   ]
  },
  {
   "cell_type": "code",
   "execution_count": 15,
   "metadata": {},
   "outputs": [
    {
     "data": {
      "text/plain": [
       "patient_id  target\n",
       "8863        0         1544\n",
       "            1          414\n",
       "8864        0         1610\n",
       "            1          656\n",
       "Name: target, dtype: int64"
      ]
     },
     "execution_count": 15,
     "metadata": {},
     "output_type": "execute_result"
    }
   ],
   "source": [
    "target_count = data.groupby('patient_id').target.value_counts()\n",
    "target_count"
   ]
  },
  {
   "cell_type": "code",
   "execution_count": 17,
   "metadata": {},
   "outputs": [
    {
     "data": {
      "text/plain": [
       "patient_id\n",
       "8863    1958\n",
       "8864    2266\n",
       "Name: target, dtype: int64"
      ]
     },
     "execution_count": 17,
     "metadata": {},
     "output_type": "execute_result"
    }
   ],
   "source": [
    "target_size = data.groupby('patient_id').target.size()\n",
    "target_size"
   ]
  },
  {
   "cell_type": "code",
   "execution_count": 29,
   "metadata": {},
   "outputs": [
    {
     "data": {
      "text/plain": [
       "array(['8863', '8864'], dtype=object)"
      ]
     },
     "execution_count": 29,
     "metadata": {},
     "output_type": "execute_result"
    }
   ],
   "source": [
    "pids = data.patient_id.unique()\n",
    "pids"
   ]
  },
  {
   "cell_type": "code",
   "execution_count": 21,
   "metadata": {},
   "outputs": [
    {
     "data": {
      "image/png": "[encoded data removed]",
      "text/plain": [
       "<Figure size 432x288 with 1 Axes>"
      ]
     },
     "metadata": {
      "needs_background": "light"
     },
     "output_type": "display_data"
    }
   ],
   "source": [
    "fig = plt.figure()\n",
    "ax = fig.add_axes([0,0,1,1])\n",
    "ax.set_title('ICD frequnct in different groups')\n",
    "ax.set_ylabel('Frequency')\n",
    "ax.set_xlabel('Patient ID')\n",
    "ax.bar(pids,  data.groupby('patient_id').target.size())\n",
    "plt.show()"
   ]
  },
  {
   "cell_type": "code",
   "execution_count": 26,
   "metadata": {},
   "outputs": [
    {
     "data": {
      "text/plain": [
       "[0, 1]"
      ]
     },
     "execution_count": 26,
     "metadata": {},
     "output_type": "execute_result"
    }
   ],
   "source": [
    "icd = [0,1]\n",
    "icd"
   ]
  },
  {
   "cell_type": "code",
   "execution_count": 35,
   "metadata": {},
   "outputs": [],
   "source": [
    "\n",
    "# fig = plt.figure()\n",
    "# ax = fig.add_axes([0,0,1,1])\n",
    "# ax.set_title('ICD per class')\n",
    "# ax.set_ylabel('Frequency')\n",
    "# ax.set_xlabel('ICD or No ICD')\n",
    "# ax.bar(icd, target_count.loc[:, 1])\n",
    "# # ax.bar(target_count.loc[:, 1])\n",
    "# plt.show()"
   ]
  },
  {
   "cell_type": "code",
   "execution_count": 39,
   "metadata": {},
   "outputs": [
    {
     "data": {
      "text/plain": [
       "array([0, 1], dtype=int64)"
      ]
     },
     "execution_count": 39,
     "metadata": {},
     "output_type": "execute_result"
    }
   ],
   "source": [
    "target_class = data.target.unique()\n",
    "target_class"
   ]
  },
  {
   "cell_type": "code",
   "execution_count": 63,
   "metadata": {},
   "outputs": [
    {
     "data": {
      "text/plain": [
       "patient_id  target\n",
       "8863        0         1544\n",
       "            1          414\n",
       "8864        0         1610\n",
       "            1          656\n",
       "Name: target, dtype: int64"
      ]
     },
     "execution_count": 63,
     "metadata": {},
     "output_type": "execute_result"
    }
   ],
   "source": [
    "target_count"
   ]
  },
  {
   "cell_type": "code",
   "execution_count": 41,
   "metadata": {},
   "outputs": [
    {
     "data": {
      "text/plain": [
       "patient_id\n",
       "8863    414\n",
       "8864    656\n",
       "Name: target, dtype: int64"
      ]
     },
     "execution_count": 41,
     "metadata": {},
     "output_type": "execute_result"
    }
   ],
   "source": [
    "target_count.loc[:, 1]"
   ]
  },
  {
   "cell_type": "code",
   "execution_count": 42,
   "metadata": {},
   "outputs": [
    {
     "data": {
      "text/plain": [
       "patient_id\n",
       "8863    1544\n",
       "8864    1610\n",
       "Name: target, dtype: int64"
      ]
     },
     "execution_count": 42,
     "metadata": {},
     "output_type": "execute_result"
    }
   ],
   "source": [
    "target_count.loc[:, 0]"
   ]
  },
  {
   "cell_type": "code",
   "execution_count": 61,
   "metadata": {},
   "outputs": [
    {
     "data": {
      "text/plain": [
       "1544"
      ]
     },
     "execution_count": 61,
     "metadata": {},
     "output_type": "execute_result"
    }
   ],
   "source": [
    "target_count[0]"
   ]
  },
  {
   "cell_type": "code",
   "execution_count": 62,
   "metadata": {},
   "outputs": [
    {
     "data": {
      "text/plain": [
       "414"
      ]
     },
     "execution_count": 62,
     "metadata": {},
     "output_type": "execute_result"
    }
   ],
   "source": [
    "target_count[1]"
   ]
  },
  {
   "cell_type": "code",
   "execution_count": 64,
   "metadata": {},
   "outputs": [
    {
     "data": {
      "text/plain": [
       "4"
      ]
     },
     "execution_count": 64,
     "metadata": {},
     "output_type": "execute_result"
    }
   ],
   "source": [
    "len(target_count)"
   ]
  },
  {
   "cell_type": "code",
   "execution_count": 74,
   "metadata": {},
   "outputs": [
    {
     "data": {
      "text/plain": [
       "patient_id  target\n",
       "8863        0         1544\n",
       "            1          414\n",
       "8864        0         1610\n",
       "            1          656\n",
       "Name: target, dtype: int64"
      ]
     },
     "execution_count": 74,
     "metadata": {},
     "output_type": "execute_result"
    }
   ],
   "source": [
    "t  = data.groupby('patient_id').target.value_counts()\n",
    "t"
   ]
  },
  {
   "cell_type": "code",
   "execution_count": 76,
   "metadata": {},
   "outputs": [
    {
     "data": {
      "text/plain": [
       "pandas.core.series.Series"
      ]
     },
     "execution_count": 76,
     "metadata": {},
     "output_type": "execute_result"
    }
   ],
   "source": [
    "type(t)"
   ]
  },
  {
   "cell_type": "code",
   "execution_count": 85,
   "metadata": {},
   "outputs": [
    {
     "name": "stdout",
     "output_type": "stream",
     "text": [
      "8863\n",
      "Loop 8863\n",
      "8864\n",
      "Loop 8864\n"
     ]
    },
    {
     "name": "stderr",
     "output_type": "stream",
     "text": [
      "C:\\Users\\Girija Joshi\\anaconda3\\envs\\PythonData\\lib\\site-packages\\ipykernel_launcher.py:17: UserWarning: Matplotlib is currently using module://ipykernel.pylab.backend_inline, which is a non-GUI backend, so cannot show the figure.\n"
     ]
    },
    {
     "data": {
      "image/png": "[encoded data removed]",
      "text/plain": [
       "<Figure size 864x216 with 2 Axes>"
      ]
     },
     "metadata": {
      "needs_background": "light"
     },
     "output_type": "display_data"
    }
   ],
   "source": [
    "fig, axes = plt.subplots(1,len(pids), figsize=(12,3))\n",
    "for pid in pids:\n",
    "    i = 0\n",
    "    print(pid)\n",
    "    til = 'ICD Parent ID: ' + pid\n",
    "    \n",
    "    axes[i].set_title(til)\n",
    "    axes[i].set_ylabel('Frequency')\n",
    "    axes[i].set_xlabel('ICD or No ICD')\n",
    "    y_vals = [target_count[i], target_count[i + 1]]\n",
    "    x_vals = [0, 1]\n",
    "    axes[i].bar(x_vals, y_vals)\n",
    "    i += 2\n",
    "    print(f'Loop {pid}')\n",
    "    \n",
    "fig.tight_layout()\n",
    "fig.show()\n",
    "    "
   ]
  },
  {
   "cell_type": "code",
   "execution_count": null,
   "metadata": {},
   "outputs": [],
   "source": []
  },
  {
   "cell_type": "code",
   "execution_count": null,
   "metadata": {},
   "outputs": [],
   "source": []
  },
  {
   "cell_type": "code",
   "execution_count": null,
   "metadata": {},
   "outputs": [],
   "source": []
  },
  {
   "cell_type": "code",
   "execution_count": null,
   "metadata": {},
   "outputs": [],
   "source": []
  },
  {
   "cell_type": "code",
   "execution_count": null,
   "metadata": {},
   "outputs": [],
   "source": []
  },
  {
   "cell_type": "code",
   "execution_count": null,
   "metadata": {},
   "outputs": [],
   "source": []
  },
  {
   "cell_type": "code",
   "execution_count": null,
   "metadata": {},
   "outputs": [],
   "source": []
  }
 ],
 "metadata": {
  "kernelspec": {
   "display_name": "PythonData",
   "language": "python",
   "name": "pythondata"
  },
  "language_info": {
   "codemirror_mode": {
    "name": "ipython",
    "version": 3
   },
   "file_extension": ".py",
   "mimetype": "text/x-python",
   "name": "python",
   "nbconvert_exporter": "python",
   "pygments_lexer": "ipython3",
   "version": "3.7.7"
  }
 },
 "nbformat": 4,
 "nbformat_minor": 4
}
