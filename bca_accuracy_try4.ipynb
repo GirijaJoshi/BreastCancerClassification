{
 "cells": [
  {
   "cell_type": "code",
   "execution_count": 1,
   "metadata": {},
   "outputs": [
    {
     "name": "stderr",
     "output_type": "stream",
     "text": [
      "C:\\Users\\Girija Joshi\\anaconda3\\envs\\PythonData\\lib\\site-packages\\tensorflow\\python\\framework\\dtypes.py:523: FutureWarning: Passing (type, 1) or '1type' as a synonym of type is deprecated; in a future version of numpy, it will be understood as (type, (1,)) / '(1,)type'.\n",
      "  _np_qint8 = np.dtype([(\"qint8\", np.int8, 1)])\n",
      "C:\\Users\\Girija Joshi\\anaconda3\\envs\\PythonData\\lib\\site-packages\\tensorflow\\python\\framework\\dtypes.py:524: FutureWarning: Passing (type, 1) or '1type' as a synonym of type is deprecated; in a future version of numpy, it will be understood as (type, (1,)) / '(1,)type'.\n",
      "  _np_quint8 = np.dtype([(\"quint8\", np.uint8, 1)])\n",
      "C:\\Users\\Girija Joshi\\anaconda3\\envs\\PythonData\\lib\\site-packages\\tensorflow\\python\\framework\\dtypes.py:525: FutureWarning: Passing (type, 1) or '1type' as a synonym of type is deprecated; in a future version of numpy, it will be understood as (type, (1,)) / '(1,)type'.\n",
      "  _np_qint16 = np.dtype([(\"qint16\", np.int16, 1)])\n",
      "C:\\Users\\Girija Joshi\\anaconda3\\envs\\PythonData\\lib\\site-packages\\tensorflow\\python\\framework\\dtypes.py:526: FutureWarning: Passing (type, 1) or '1type' as a synonym of type is deprecated; in a future version of numpy, it will be understood as (type, (1,)) / '(1,)type'.\n",
      "  _np_quint16 = np.dtype([(\"quint16\", np.uint16, 1)])\n",
      "C:\\Users\\Girija Joshi\\anaconda3\\envs\\PythonData\\lib\\site-packages\\tensorflow\\python\\framework\\dtypes.py:527: FutureWarning: Passing (type, 1) or '1type' as a synonym of type is deprecated; in a future version of numpy, it will be understood as (type, (1,)) / '(1,)type'.\n",
      "  _np_qint32 = np.dtype([(\"qint32\", np.int32, 1)])\n",
      "C:\\Users\\Girija Joshi\\anaconda3\\envs\\PythonData\\lib\\site-packages\\tensorflow\\python\\framework\\dtypes.py:532: FutureWarning: Passing (type, 1) or '1type' as a synonym of type is deprecated; in a future version of numpy, it will be understood as (type, (1,)) / '(1,)type'.\n",
      "  np_resource = np.dtype([(\"resource\", np.ubyte, 1)])\n",
      "C:\\Users\\Girija Joshi\\anaconda3\\envs\\PythonData\\lib\\site-packages\\tensorboard\\compat\\tensorflow_stub\\dtypes.py:541: FutureWarning: Passing (type, 1) or '1type' as a synonym of type is deprecated; in a future version of numpy, it will be understood as (type, (1,)) / '(1,)type'.\n",
      "  _np_qint8 = np.dtype([(\"qint8\", np.int8, 1)])\n",
      "C:\\Users\\Girija Joshi\\anaconda3\\envs\\PythonData\\lib\\site-packages\\tensorboard\\compat\\tensorflow_stub\\dtypes.py:542: FutureWarning: Passing (type, 1) or '1type' as a synonym of type is deprecated; in a future version of numpy, it will be understood as (type, (1,)) / '(1,)type'.\n",
      "  _np_quint8 = np.dtype([(\"quint8\", np.uint8, 1)])\n",
      "C:\\Users\\Girija Joshi\\anaconda3\\envs\\PythonData\\lib\\site-packages\\tensorboard\\compat\\tensorflow_stub\\dtypes.py:543: FutureWarning: Passing (type, 1) or '1type' as a synonym of type is deprecated; in a future version of numpy, it will be understood as (type, (1,)) / '(1,)type'.\n",
      "  _np_qint16 = np.dtype([(\"qint16\", np.int16, 1)])\n",
      "C:\\Users\\Girija Joshi\\anaconda3\\envs\\PythonData\\lib\\site-packages\\tensorboard\\compat\\tensorflow_stub\\dtypes.py:544: FutureWarning: Passing (type, 1) or '1type' as a synonym of type is deprecated; in a future version of numpy, it will be understood as (type, (1,)) / '(1,)type'.\n",
      "  _np_quint16 = np.dtype([(\"quint16\", np.uint16, 1)])\n",
      "C:\\Users\\Girija Joshi\\anaconda3\\envs\\PythonData\\lib\\site-packages\\tensorboard\\compat\\tensorflow_stub\\dtypes.py:545: FutureWarning: Passing (type, 1) or '1type' as a synonym of type is deprecated; in a future version of numpy, it will be understood as (type, (1,)) / '(1,)type'.\n",
      "  _np_qint32 = np.dtype([(\"qint32\", np.int32, 1)])\n",
      "C:\\Users\\Girija Joshi\\anaconda3\\envs\\PythonData\\lib\\site-packages\\tensorboard\\compat\\tensorflow_stub\\dtypes.py:550: FutureWarning: Passing (type, 1) or '1type' as a synonym of type is deprecated; in a future version of numpy, it will be understood as (type, (1,)) / '(1,)type'.\n",
      "  np_resource = np.dtype([(\"resource\", np.ubyte, 1)])\n"
     ]
    }
   ],
   "source": [
    "import pandas as pd\n",
    "import numpy as np\n",
    "import matplotlib.pyplot as plt\n",
    "import os\n",
    "from glob import glob\n",
    "from sklearn.model_selection import train_test_split\n",
    "from sklearn.preprocessing import StandardScaler\n",
    "import tensorflow as tf\n",
    "from tqdm import tqdm\n",
    "from datetime import datetime\n",
    "from tensorflow.keras.preprocessing.image import ImageDataGenerator, array_to_img, img_to_array, load_img\n"
   ]
  },
  {
   "cell_type": "code",
   "execution_count": 2,
   "metadata": {},
   "outputs": [
    {
     "name": "stdout",
     "output_type": "stream",
     "text": [
      "Please wait getting all images.....\n"
     ]
    }
   ],
   "source": [
    "# getting names of all the files in IDC_regular_ps50_idx5and sub dirs\n",
    "print(\"Please wait getting all images.....\")\n",
    "# files = glob('Resources/IDC_regular_ps50_idx5/*/*/*')\n",
    "files = glob('C:\\BootCamp\\BreastCancerClassification\\equal_images/*/*/*')\n",
    "\n",
    "# Example : Resources/IDC_regular_ps50_idx5\\\\10254\\\\0\\\\10254_idx5_x1001_y1001_class0.png'"
   ]
  },
  {
   "cell_type": "code",
   "execution_count": 3,
   "metadata": {},
   "outputs": [],
   "source": [
    "# checking how many are cancer files which has class1 in it\n",
    "count =0 \n",
    "for file in files:\n",
    "    if 'class1' in file:\n",
    "        count+=1"
   ]
  },
  {
   "cell_type": "code",
   "execution_count": 4,
   "metadata": {},
   "outputs": [
    {
     "name": "stdout",
     "output_type": "stream",
     "text": [
      "------------------\n",
      "Number Of 1: 68378\n",
      "Number Of 0: 68378\n",
      "Total: 136756\n"
     ]
    }
   ],
   "source": [
    "print('------------------')\n",
    "\n",
    "print(f'Number Of 1: {count}')\n",
    "print(f'Number Of 0: {len(files) - count}')\n",
    "# total number of files\n",
    "print(f'Total: {len(files)}')"
   ]
  },
  {
   "cell_type": "code",
   "execution_count": 5,
   "metadata": {},
   "outputs": [],
   "source": [
    "# get 80% of total for training and 20% for testing\n",
    "train_num = int(len(files) * 0.80)\n",
    "test_num = len(files) - train_num"
   ]
  },
  {
   "cell_type": "code",
   "execution_count": 6,
   "metadata": {},
   "outputs": [],
   "source": [
    "# create X and y train data\n",
    "def find_data(files, lower_limit, upper_limit):\n",
    "    X = []\n",
    "    y = []\n",
    "    \n",
    "    # tqdm(patient_ids)\n",
    "    for file in tqdm(files[lower_limit:upper_limit]):\n",
    "        if file.endswith(\".png\"):\n",
    "            # Convering cureent image into PIL image format. PIL image format is RGB format.\n",
    "            img = tf.keras.preprocessing.image.load_img(file, target_size = (50,50))\n",
    "\n",
    "            # Keras provides the img_to_array() function for converting a loaded image in PIL format into a NumPy array \n",
    "            #for use with deep learning models. The image is convertated into t [height, width, channels]\n",
    "\n",
    "            # # Arguments\n",
    "            #         img: PIL Image instance.\n",
    "            #         data_format: Image data format,\n",
    "            #             either \"channels_first\" or \"channels_last\".\n",
    "            #         dtype: Dtype to use for the returned array.\n",
    "            # Returns: A 3D Numpy array.\n",
    "            \n",
    "            # The component values are often stored as integer numbers in the range 0 to 255, \n",
    "            # the range that a single 8-bit byte can offer,\n",
    "            pixels = tf.keras.preprocessing.image.img_to_array(img)\n",
    "\n",
    "            # converting into 0 - 1, This is called as Normalization will help you to remove distortions \n",
    "            # caused by lights and shadows in an image.\n",
    "            pixels /= 255\n",
    "            X.append(pixels)\n",
    "            if 'class1' in file:\n",
    "                y.append(1)\n",
    "            elif 'class0' in file:\n",
    "                y.append(0)\n",
    "    return np.stack(X), y"
   ]
  },
  {
   "cell_type": "code",
   "execution_count": 7,
   "metadata": {},
   "outputs": [
    {
     "name": "stdout",
     "output_type": "stream",
     "text": [
      "Num of training files: 109404\n",
      "Num of test files:27352\n"
     ]
    }
   ],
   "source": [
    "print(f'Num of training files: {train_num}\\nNum of test files:{test_num}')\n"
   ]
  },
  {
   "cell_type": "code",
   "execution_count": 8,
   "metadata": {},
   "outputs": [
    {
     "name": "stderr",
     "output_type": "stream",
     "text": [
      "100%|██████████████████████████████████████████████████████████████████████████| 109404/109404 [19:12<00:00, 94.90it/s]\n"
     ]
    }
   ],
   "source": [
    "X_train,y_train = find_data(files,0, train_num)"
   ]
  },
  {
   "cell_type": "code",
   "execution_count": 9,
   "metadata": {},
   "outputs": [
    {
     "name": "stderr",
     "output_type": "stream",
     "text": [
      "100%|████████████████████████████████████████████████████████████████████████████| 27352/27352 [04:58<00:00, 91.64it/s]\n"
     ]
    }
   ],
   "source": [
    "X_test, y_test = find_data(files, train_num, len(files))"
   ]
  },
  {
   "cell_type": "code",
   "execution_count": 10,
   "metadata": {},
   "outputs": [
    {
     "data": {
      "text/plain": [
       "<AxesSubplot:ylabel='count'>"
      ]
     },
     "execution_count": 10,
     "metadata": {},
     "output_type": "execute_result"
    },
    {
     "data": {
      "image/png": "[encoded data removed]",
      "text/plain": [
       "<Figure size 432x288 with 1 Axes>"
      ]
     },
     "metadata": {
      "needs_background": "light"
     },
     "output_type": "display_data"
    }
   ],
   "source": [
    "import seaborn as sns\n",
    "sns.countplot(y_train)"
   ]
  },
  {
   "cell_type": "code",
   "execution_count": 11,
   "metadata": {},
   "outputs": [
    {
     "data": {
      "text/plain": [
       "<AxesSubplot:ylabel='count'>"
      ]
     },
     "execution_count": 11,
     "metadata": {},
     "output_type": "execute_result"
    },
    {
     "data": {
      "image/png": "[encoded data removed]",
      "text/plain": [
       "<Figure size 432x288 with 1 Axes>"
      ]
     },
     "metadata": {
      "needs_background": "light"
     },
     "output_type": "display_data"
    }
   ],
   "source": [
    "sns.countplot(y_test)"
   ]
  },
  {
   "cell_type": "code",
   "execution_count": 12,
   "metadata": {},
   "outputs": [],
   "source": [
    "from tensorflow import keras\n",
    "from tensorflow.keras.models import Model\n",
    "from tensorflow.keras.layers import Input, Dense, Dropout, Conv2D, Activation, MaxPooling2D, Flatten, BatchNormalization"
   ]
  },
  {
   "cell_type": "code",
   "execution_count": 13,
   "metadata": {},
   "outputs": [
    {
     "data": {
      "text/plain": [
       "(109404, 50, 50, 3)"
      ]
     },
     "execution_count": 13,
     "metadata": {},
     "output_type": "execute_result"
    }
   ],
   "source": [
    "# X_train2 is 4 diemtion we need to convert in 2D\n",
    "X_train.shape"
   ]
  },
  {
   "cell_type": "code",
   "execution_count": 14,
   "metadata": {},
   "outputs": [],
   "source": [
    "def form_model(inp_shape = (50,50,3)):\n",
    "    inp = Input(inp_shape)\n",
    "    m = Conv2D(32, (3,3), kernel_initializer='he_uniform', padding=\"same\", activation='relu')(inp)\n",
    "    m = MaxPooling2D(2)(m)\n",
    "    # m = BatchNormalization()(m)\n",
    "    \n",
    "    m = Conv2D(64, (3,3), kernel_initializer='he_uniform', padding=\"same\", activation='relu')(m)\n",
    "    m = MaxPooling2D(2)(m)\n",
    "    # m = BatchNormalization()(m)\n",
    "    \n",
    "    m = Conv2D(128, (3,3), kernel_initializer='he_uniform', padding=\"same\", activation='relu')(m)\n",
    "    m = MaxPooling2D(2)(m)\n",
    "    \n",
    "#     m = Conv2D(128, (3,3), kernel_initializer='he_uniform', padding=\"same\", activation='relu')(m)\n",
    "#     m = MaxPooling2D(2)(m)\n",
    "    \n",
    "    \n",
    "#     m = Conv2D(256, (3,3), kernel_initializer='he_uniform', padding=\"same\", activation='relu')(m)\n",
    "#     m = MaxPooling2D(2)(m)\n",
    "    \n",
    "    m = Flatten()(m)\n",
    "    \n",
    "    m = Dense(128, activation = \"relu\")(m)\n",
    "    out = Dense(1, activation = \"sigmoid\")(m)\n",
    "    model = Model(inp, out)\n",
    "    model.compile(optimizer = keras.optimizers.SGD(1e-3, momentum=0.9), loss=\"binary_crossentropy\", metrics = ['acc'])\n",
    "    return model\n"
   ]
  },
  {
   "cell_type": "code",
   "execution_count": 15,
   "metadata": {},
   "outputs": [
    {
     "name": "stdout",
     "output_type": "stream",
     "text": [
      "Model: \"model\"\n",
      "_________________________________________________________________\n",
      "Layer (type)                 Output Shape              Param #   \n",
      "=================================================================\n",
      "input_1 (InputLayer)         [(None, 50, 50, 3)]       0         \n",
      "_________________________________________________________________\n",
      "conv2d (Conv2D)              (None, 50, 50, 32)        896       \n",
      "_________________________________________________________________\n",
      "max_pooling2d (MaxPooling2D) (None, 25, 25, 32)        0         \n",
      "_________________________________________________________________\n",
      "conv2d_1 (Conv2D)            (None, 25, 25, 64)        18496     \n",
      "_________________________________________________________________\n",
      "max_pooling2d_1 (MaxPooling2 (None, 12, 12, 64)        0         \n",
      "_________________________________________________________________\n",
      "conv2d_2 (Conv2D)            (None, 12, 12, 128)       73856     \n",
      "_________________________________________________________________\n",
      "max_pooling2d_2 (MaxPooling2 (None, 6, 6, 128)         0         \n",
      "_________________________________________________________________\n",
      "flatten (Flatten)            (None, 4608)              0         \n",
      "_________________________________________________________________\n",
      "dense (Dense)                (None, 128)               589952    \n",
      "_________________________________________________________________\n",
      "dense_1 (Dense)              (None, 1)                 129       \n",
      "=================================================================\n",
      "Total params: 683,329\n",
      "Trainable params: 683,329\n",
      "Non-trainable params: 0\n",
      "_________________________________________________________________\n"
     ]
    }
   ],
   "source": [
    "model = form_model()\n",
    "model.summary()"
   ]
  },
  {
   "cell_type": "code",
   "execution_count": null,
   "metadata": {},
   "outputs": [],
   "source": [
    "now = datetime.now()\n",
    "start_fit = now.strftime(\"%H:%M:%S.%f\")\n",
    "print(f'Time Before Model Fit: {start_fit}')"
   ]
  },
  {
   "cell_type": "code",
   "execution_count": 18,
   "metadata": {},
   "outputs": [
    {
     "name": "stdout",
     "output_type": "stream",
     "text": [
      "Train on 109404 samples, validate on 27352 samples\n",
      "Epoch 1/25\n",
      "109404/109404 [==============================] - 688s 6ms/sample - loss: 0.5336 - acc: 0.7643 - val_loss: 0.4351 - val_acc: 0.8232\n",
      "Epoch 2/25\n",
      "109404/109404 [==============================] - 810s 7ms/sample - loss: 0.4791 - acc: 0.7894 - val_loss: 0.4143 - val_acc: 0.8276\n",
      "Epoch 3/25\n",
      "109404/109404 [==============================] - 811s 7ms/sample - loss: 0.4657 - acc: 0.7966 - val_loss: 0.4285 - val_acc: 0.8203\n",
      "Epoch 4/25\n",
      "109404/109404 [==============================] - 669s 6ms/sample - loss: 0.4592 - acc: 0.7988 - val_loss: 0.4057 - val_acc: 0.8288\n",
      "Epoch 5/25\n",
      "109404/109404 [==============================] - 669s 6ms/sample - loss: 0.4548 - acc: 0.8008 - val_loss: 0.4040 - val_acc: 0.8285\n",
      "Epoch 6/25\n",
      "109404/109404 [==============================] - 707s 6ms/sample - loss: 0.4545 - acc: 0.8003 - val_loss: 0.4009 - val_acc: 0.8286\n",
      "Epoch 7/25\n",
      "109404/109404 [==============================] - 692s 6ms/sample - loss: 0.4496 - acc: 0.8031 - val_loss: 0.4017 - val_acc: 0.8287\n",
      "Epoch 8/25\n",
      "109404/109404 [==============================] - 680s 6ms/sample - loss: 0.4479 - acc: 0.8033 - val_loss: 0.4038 - val_acc: 0.8278\n",
      "Epoch 9/25\n",
      "109404/109404 [==============================] - 668s 6ms/sample - loss: 0.4417 - acc: 0.8060 - val_loss: 0.3967 - val_acc: 0.8306\n",
      "Epoch 10/25\n",
      "109404/109404 [==============================] - 761s 7ms/sample - loss: 0.4396 - acc: 0.8067 - val_loss: 0.4108 - val_acc: 0.8231\n",
      "Epoch 11/25\n",
      "109404/109404 [==============================] - 988s 9ms/sample - loss: 0.4392 - acc: 0.8063 - val_loss: 0.4218 - val_acc: 0.8168\n",
      "Epoch 12/25\n",
      "109404/109404 [==============================] - 988s 9ms/sample - loss: 0.4383 - acc: 0.8064 - val_loss: 0.4140 - val_acc: 0.8207\n",
      "Epoch 13/25\n",
      "109404/109404 [==============================] - 1060s 10ms/sample - loss: 0.4327 - acc: 0.8091 - val_loss: 0.4206 - val_acc: 0.8170\n",
      "Epoch 14/25\n",
      "109404/109404 [==============================] - 959s 9ms/sample - loss: 0.4328 - acc: 0.8094 - val_loss: 0.4127 - val_acc: 0.8210\n",
      "Epoch 15/25\n",
      "109404/109404 [==============================] - 796s 7ms/sample - loss: 0.4319 - acc: 0.8091 - val_loss: 0.4243 - val_acc: 0.8145\n",
      "Epoch 16/25\n",
      "109404/109404 [==============================] - 584s 5ms/sample - loss: 0.4271 - acc: 0.8109 - val_loss: 0.4063 - val_acc: 0.8259\n",
      "Epoch 17/25\n",
      "109404/109404 [==============================] - 565s 5ms/sample - loss: 0.4264 - acc: 0.8112 - val_loss: 0.4156 - val_acc: 0.8205\n",
      "Epoch 18/25\n",
      "109404/109404 [==============================] - 555s 5ms/sample - loss: 0.4261 - acc: 0.8114 - val_loss: 0.3919 - val_acc: 0.8317\n",
      "Epoch 19/25\n",
      "109404/109404 [==============================] - 563s 5ms/sample - loss: 0.4226 - acc: 0.8123 - val_loss: 0.4105 - val_acc: 0.8217\n",
      "Epoch 20/25\n",
      "109404/109404 [==============================] - 567s 5ms/sample - loss: 0.4196 - acc: 0.8142 - val_loss: 0.3910 - val_acc: 0.8319\n",
      "Epoch 21/25\n",
      "109404/109404 [==============================] - 568s 5ms/sample - loss: 0.4253 - acc: 0.8111 - val_loss: 0.3976 - val_acc: 0.8301\n",
      "Epoch 22/25\n",
      "109404/109404 [==============================] - 572s 5ms/sample - loss: 0.4194 - acc: 0.8138 - val_loss: 0.3969 - val_acc: 0.8307\n",
      "Epoch 23/25\n",
      "109404/109404 [==============================] - 572s 5ms/sample - loss: 0.4184 - acc: 0.8148 - val_loss: 0.3980 - val_acc: 0.8304\n",
      "Epoch 24/25\n",
      "109404/109404 [==============================] - 569s 5ms/sample - loss: 0.4147 - acc: 0.8169 - val_loss: 0.3871 - val_acc: 0.8330\n",
      "Epoch 25/25\n",
      "109404/109404 [==============================] - 577s 5ms/sample - loss: 0.4174 - acc: 0.8156 - val_loss: 0.3933 - val_acc: 0.8324\n"
     ]
    }
   ],
   "source": [
    "history = model.fit(X_train, y_train, validation_data=(X_test, y_test), epochs = 25, batch_size=1024)"
   ]
  },
  {
   "cell_type": "code",
   "execution_count": 28,
   "metadata": {},
   "outputs": [
    {
     "data": {
      "image/png": "[encoded data removed]",
      "text/plain": [
       "<Figure size 432x288 with 1 Axes>"
      ]
     },
     "metadata": {
      "needs_background": "light"
     },
     "output_type": "display_data"
    }
   ],
   "source": [
    "##### import matplotlib.pyplot as plt\n",
    "epochs = 25\n",
    "\n",
    "plt.figure()\n",
    "plt.title(\"Loss\")\n",
    "plt.plot(history.history['loss'], color='b', label=\"Training loss\")\n",
    "plt.plot(history.history['val_loss'], color='r', label=\"validation loss\")\n",
    "plt.xticks(np.arange(1, epochs, 1))\n",
    "plt.yticks(np.arange(0, 1, 0.1))\n",
    "plt.legend(loc='best', shadow=True)\n",
    "plt.show()\n",
    "plt.close()\n",
    "\n"
   ]
  },
  {
   "cell_type": "code",
   "execution_count": 29,
   "metadata": {},
   "outputs": [
    {
     "data": {
      "image/png": "[encoded data removed]",
      "text/plain": [
       "<Figure size 432x288 with 1 Axes>"
      ]
     },
     "metadata": {
      "needs_background": "light"
     },
     "output_type": "display_data"
    }
   ],
   "source": [
    "plt.figure()\n",
    "plt.plot(\"Accuracy\")\n",
    "plt.plot(history.history['acc'], color='b', label=\"Training accuracy\")\n",
    "plt.plot(history.history['val_acc'], color='r',label=\"Validation accuracy\")\n",
    "plt.yticks(np.arange(0, 1, 0.1))\n",
    "plt.xticks(np.arange(1, epochs, 1))\n",
    "plt.legend(loc='best', shadow=True)\n",
    "plt.show()\n",
    "plt.close()"
   ]
  },
  {
   "cell_type": "code",
   "execution_count": null,
   "metadata": {},
   "outputs": [],
   "source": [
    "now = datetime.now()\n",
    "end_fit = now.strftime(\"%H:%M:%S.%f\")\n",
    "print(f'Time After Model Fit: {end_fit}')"
   ]
  },
  {
   "cell_type": "code",
   "execution_count": null,
   "metadata": {},
   "outputs": [],
   "source": [
    "now = datetime.now()\n",
    "start_eval = now.strftime(\"%H:%M:%S.%f\")\n",
    "print(f'Time Before Model Evaluate Test Data: {start_eval}')"
   ]
  },
  {
   "cell_type": "code",
   "execution_count": 19,
   "metadata": {},
   "outputs": [
    {
     "name": "stdout",
     "output_type": "stream",
     "text": [
      "Test loss: 0.3933380467260954\n",
      "Test accuracy: 0.8324071\n"
     ]
    }
   ],
   "source": [
    "# evaluating and printing results \n",
    "score = model.evaluate(X_test, y_test, verbose = 0) \n",
    "print('Test loss:', score[0]) \n",
    "print('Test accuracy:', score[1]) "
   ]
  },
  {
   "cell_type": "code",
   "execution_count": null,
   "metadata": {},
   "outputs": [],
   "source": [
    "now = datetime.now()\n",
    "end_eval = now.strftime(\"%H:%M:%S.%f\")\n",
    "print(f'Time After Model Evaluate Test Data: {end_eval}')"
   ]
  },
  {
   "cell_type": "code",
   "execution_count": null,
   "metadata": {},
   "outputs": [],
   "source": [
    "pred = model.predict(X_test)\n",
    "\n",
    "res = []\n",
    "for prediction in pred:\n",
    "    if(prediction > 0.5):\n",
    "        res.append(1)\n",
    "    else:\n",
    "        res.append(0)"
   ]
  },
  {
   "cell_type": "code",
   "execution_count": null,
   "metadata": {},
   "outputs": [],
   "source": [
    "from sklearn.metrics import classification_report, confusion_matrix\n",
    "print(confusion_matrix(y_test2, res))\n",
    "print(classification_report(y_test2, res))\n"
   ]
  },
  {
   "cell_type": "code",
   "execution_count": null,
   "metadata": {},
   "outputs": [],
   "source": []
  }
 ],
 "metadata": {
  "kernelspec": {
   "display_name": "PythonData",
   "language": "python",
   "name": "pythondata"
  },
  "language_info": {
   "codemirror_mode": {
    "name": "ipython",
    "version": 3
   },
   "file_extension": ".py",
   "mimetype": "text/x-python",
   "name": "python",
   "nbconvert_exporter": "python",
   "pygments_lexer": "ipython3",
   "version": "3.7.7"
  }
 },
 "nbformat": 4,
 "nbformat_minor": 4
}
